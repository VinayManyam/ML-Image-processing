import pandas as pd
import numpy as np
import cv2 as cv
import os
from matplotlib import pyplot as plt

def rotate_image(image, angle):
        image_center = tuple(np.array(image.shape[1::-1]) / 2)
        rot_mat = cv.getRotationMatrix2D(image_center, angle, 1.0)
        result = cv.warpAffine(image, rot_mat, image.shape[1::-1], borderMode=cv.BORDER_CONSTANT,borderValue=(255,255,255))
        return result


file_loc = "Book1.xlsx"
df = pd.read_excel(file_loc,sheet_name='Sheet1', usecols="A")
mylist = ["c2.jpg","c5.jpg"]
col = [45,90,135,180,225,270,315]    
for y in mylist:
    name = y.split(".")
    ny = cv.imread(y)
    for x in col: 
        nname = name[0]+"_"+str(x)+".jpg"
        res=rotate_image(ny,x)
        cv.imwrite(nname,res)


threshold = 0.8
i=0
for index, row in df.iterrows():
    i=i+1
    if i%1000 == 0:
        print(i)
        
    col = [45,90,135,180,225,270,315]    
    for x in mylist:
        for y in col:
            xtmp=x.split(".")
            file_name=xtmp[0]+"_"+str(y)+".jpg"
            template = cv.imread(file_name,0)
            w, h = template.shape[::-1]
            img = "wfc3/"+row[0]
            name = x.split(".")
            img1 = "res_"+name[0]+"_"+str(y)+"_"+row[0]
            img_rgb = cv.imread(img)
            img_gray = cv.cvtColor(img_rgb, cv.COLOR_BGR2GRAY)
            res = cv.matchTemplate(img_gray,template,cv.TM_CCOEFF_NORMED)
            loc = np.where( res >= threshold)    
            if not loc[1].size==0:
                for pt in zip(*loc[::-1]):
                    cv.rectangle(img_rgb, pt, (pt[0] + w, pt[1] + h), (0,0,255), 2)
                print("Match Found :"+img1)
                cv.imwrite(img1,img_rgb)
           
            
    
