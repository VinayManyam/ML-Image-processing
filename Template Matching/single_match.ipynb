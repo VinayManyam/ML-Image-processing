{
 "cells": [
  {
   "cell_type": "code",
   "execution_count": 42,
   "id": "db9f6113-7853-425f-9016-899f5bbff923",
   "metadata": {},
   "outputs": [
    {
     "name": "stdout",
     "output_type": "stream",
     "text": [
      "Npix14.jpg\n",
      "Npix15.jpg\n",
      "Npix36.jpg\n",
      "Npix37.jpg\n",
      "wfc1.jpg\n",
      "Match Found :reswfc1.jpg\n"
     ]
    }
   ],
   "source": [
    "\n",
    "import pandas as pd\n",
    "import numpy as np\n",
    "import cv2 as cv\n",
    "import os\n",
    "from matplotlib import pyplot as plt\n",
    "\n",
    "\n",
    "file_loc = \"Book1.xlsx\"\n",
    "df = pd.read_excel(file_loc,sheet_name='Sheet1', usecols=\"A\")\n",
    "template = cv.imread('way.png',0)\n",
    "w, h = template.shape[::-1]\n",
    "threshold = 0.8\n",
    "\n",
    "for index, row in df.iterrows():\n",
    "    img = row[0]\n",
    "    img1 = \"res\"+row[0]\n",
    "    print(img)\n",
    "    img_rgb = cv.imread(img)\n",
    "    img_gray = cv.cvtColor(img_rgb, cv.COLOR_BGR2GRAY)\n",
    "    res = cv.matchTemplate(img_gray,template,cv.TM_CCOEFF_NORMED)\n",
    "    loc = np.where( res >= threshold)    \n",
    "    if not loc[1].size==0:\n",
    "        for pt in zip(*loc[::-1]):\n",
    "            cv.rectangle(img_rgb, pt, (pt[0] + w, pt[1] + h), (0,0,255), 2)\n",
    "        cv.imwrite(img1,img_rgb)\n",
    "        print(\"Match Found :\"+img1)\n",
    "            \n",
    "    "
   ]
  },
  {
   "cell_type": "code",
   "execution_count": null,
   "id": "7fea1791-b283-49cd-9c7e-ce8c85020c93",
   "metadata": {},
   "outputs": [],
   "source": []
  },
  {
   "cell_type": "code",
   "execution_count": null,
   "id": "0fb30ee5-0d3c-4073-bd54-08964e9b45f5",
   "metadata": {},
   "outputs": [],
   "source": []
  },
  {
   "cell_type": "code",
   "execution_count": null,
   "id": "ee077cca-96a8-44e6-8f7d-faab461a18bf",
   "metadata": {},
   "outputs": [],
   "source": []
  }
 ],
 "metadata": {
  "kernelspec": {
   "display_name": "Python 3 (ipykernel)",
   "language": "python",
   "name": "python3"
  },
  "language_info": {
   "codemirror_mode": {
    "name": "ipython",
    "version": 3
   },
   "file_extension": ".py",
   "mimetype": "text/x-python",
   "name": "python",
   "nbconvert_exporter": "python",
   "pygments_lexer": "ipython3",
   "version": "3.9.12"
  }
 },
 "nbformat": 4,
 "nbformat_minor": 5
}
